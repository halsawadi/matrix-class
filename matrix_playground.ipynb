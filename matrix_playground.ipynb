{
 "cells": [
  {
   "cell_type": "code",
   "execution_count": 1,
   "metadata": {},
   "outputs": [],
   "source": [
    "# Run this cell but don't modify it.\n",
    "\n",
    "%load_ext autoreload\n",
    "%autoreload 2\n",
    "from matrix import Matrix, zeroes, identity"
   ]
  },
  {
   "cell_type": "code",
   "execution_count": 2,
   "metadata": {},
   "outputs": [
    {
     "name": "stdout",
     "output_type": "stream",
     "text": [
      "m1 is\n",
      "1  2 \n",
      "3  4 \n",
      "\n",
      "m2 is\n",
      "2  5 \n",
      "6  1 \n",
      "\n",
      "we've also provided you with a function called zeros\n",
      "here's what happens when you call zeros(4,2)\n",
      "0.0  0.0 \n",
      "0.0  0.0 \n",
      "0.0  0.0 \n",
      "0.0  0.0 \n",
      "\n",
      "we've also provided you with a function called identity\n",
      "here's identity(3)\n",
      "1.0  0.0  0.0 \n",
      "0.0  1.0  0.0 \n",
      "0.0  0.0  1.0 \n",
      "\n",
      "but not everything works yet!\n",
      "for example, matrix addition...\n",
      "run the cell below to see what happens when we try...\n"
     ]
    }
   ],
   "source": [
    "# some functionality already exists... here's a demo\n",
    "\n",
    "m1 = Matrix([\n",
    "    [1, 2],\n",
    "    [3, 4]\n",
    "])\n",
    "\n",
    "m2 = Matrix([\n",
    "    [2, 5],\n",
    "    [6, 1]\n",
    "])\n",
    "\n",
    "print(\"m1 is\")\n",
    "print(m1)\n",
    "\n",
    "print(\"m2 is\")\n",
    "print(m2)\n",
    "\n",
    "print(\"we've also provided you with a function called zeros\")\n",
    "print(\"here's what happens when you call zeros(4,2)\")\n",
    "print(zeroes(4,2))\n",
    "\n",
    "print(\"we've also provided you with a function called identity\")\n",
    "print(\"here's identity(3)\")\n",
    "print(identity(3))\n",
    "\n",
    "print(\"but not everything works yet!\")\n",
    "print(\"for example, matrix addition...\")\n",
    "print(\"run the cell below to see what happens when we try...\")"
   ]
  },
  {
   "cell_type": "code",
   "execution_count": 14,
   "metadata": {},
   "outputs": [
    {
     "name": "stdout",
     "output_type": "stream",
     "text": [
      "The determinant of m1 is: -2\n",
      "The determinant of m2 is: 2\n"
     ]
    }
   ],
   "source": [
    "m1 = Matrix([\n",
    "    [1, 2],\n",
    "    [3, 4]\n",
    "])\n",
    "\n",
    "m2 = Matrix([[2]])\n",
    "\n",
    "D1 = m1.determinant()\n",
    "D2 = m2.determinant()\n",
    "\n",
    "print(\"The determinant of m1 is: \" + str(D1))\n",
    "print(\"The determinant of m2 is: \" + str(D2))"
   ]
  },
  {
   "cell_type": "code",
   "execution_count": 23,
   "metadata": {},
   "outputs": [
    {
     "name": "stdout",
     "output_type": "stream",
     "text": [
      "The trace of m1 is: 5.3999999999999995\n",
      "The trace of m2 is: 2\n",
      "The trace of m2 is: 50.0\n"
     ]
    }
   ],
   "source": [
    "m1 = Matrix([\n",
    "    [1.3, 2],\n",
    "    [3, 4.1]\n",
    "])\n",
    "\n",
    "m2 = Matrix([[2]])\n",
    "\n",
    "m3 =  identity(50)\n",
    "\n",
    "tr1 = m1.trace()\n",
    "tr2 = m2.trace()\n",
    "tr3 = m3.trace()\n",
    "\n",
    "print(\"The trace of m1 is: \" + str(tr1))\n",
    "print(\"The trace of m2 is: \" + str(tr2))\n",
    "print(\"The trace of m2 is: \" + str(tr3))"
   ]
  },
  {
   "cell_type": "code",
   "execution_count": 3,
   "metadata": {},
   "outputs": [
    {
     "name": "stdout",
     "output_type": "stream",
     "text": [
      "The inverse of m1 is:\n",
      "-2.0  1.0 \n",
      "1.5  -0.5 \n",
      "\n",
      "The inverse of m2 is:\n",
      "0.5 \n",
      "\n"
     ]
    }
   ],
   "source": [
    "m1 = Matrix([\n",
    "    [1, 2],\n",
    "    [3, 4]\n",
    "])\n",
    "\n",
    "m2 = Matrix([[2]])\n",
    "\n",
    "inv1 = m1.inverse()\n",
    "inv2 = m2.inverse()\n",
    "\n",
    "print(\"The inverse of m1 is:\")\n",
    "print(inv1)\n",
    "print(\"The inverse of m2 is:\")\n",
    "print(inv2)\n"
   ]
  },
  {
   "cell_type": "code",
   "execution_count": 45,
   "metadata": {},
   "outputs": [
    {
     "name": "stdout",
     "output_type": "stream",
     "text": [
      "The transpose of m1 is:\n",
      "1  3 \n",
      "2  4 \n",
      "\n",
      "The transpose of m2 is:\n",
      "2 \n",
      "\n",
      "The transpose of m3 is:\n",
      "1  4 \n",
      "3  2 \n",
      "5  2 \n",
      "\n"
     ]
    }
   ],
   "source": [
    "m1 = Matrix([\n",
    "    [1, 2],\n",
    "    [3, 4]\n",
    "])\n",
    "\n",
    "m2 = Matrix([[2]])\n",
    "\n",
    "m3 = Matrix([\n",
    "    [1, 3, 5],\n",
    "    [4, 2, 2],\n",
    "])\n",
    "\n",
    "m1_T = m1.T()\n",
    "m2_T = m2.T()\n",
    "m3_T = m3.T()\n",
    "\n",
    "print(\"The transpose of m1 is:\")\n",
    "print(m1_T)\n",
    "print(\"The transpose of m2 is:\")\n",
    "print(m2_T)\n",
    "print(\"The transpose of m3 is:\")\n",
    "print(m3_T)"
   ]
  },
  {
   "cell_type": "code",
   "execution_count": 22,
   "metadata": {},
   "outputs": [],
   "source": [
    "m1 = Matrix([\n",
    "    [1, 2],\n",
    "    [3, 4]\n",
    "])\n",
    "\n",
    "m2 = Matrix([\n",
    "    [2, 5],\n",
    "    [6, 1]\n",
    "])\n",
    "\n",
    "m3 = -m2"
   ]
  },
  {
   "cell_type": "code",
   "execution_count": 26,
   "metadata": {},
   "outputs": [
    {
     "name": "stdout",
     "output_type": "stream",
     "text": [
      "-4  -10 \n",
      "-12  -2 \n",
      "\n"
     ]
    }
   ],
   "source": [
    "print(m3+m2)"
   ]
  },
  {
   "cell_type": "code",
   "execution_count": 12,
   "metadata": {},
   "outputs": [
    {
     "name": "stdout",
     "output_type": "stream",
     "text": [
      "7  11  11 \n",
      "8  24  24 \n",
      "\n"
     ]
    }
   ],
   "source": [
    "m3 = Matrix([\n",
    "    [1, 3, 5],\n",
    "    [4, 2, 2],\n",
    "])\n",
    "\n",
    "m4 = Matrix([\n",
    "    [1, 5, 5],\n",
    "    [2, 2, 2],\n",
    "])\n",
    "\n",
    "m5 = Matrix([\n",
    "    [1, 3],\n",
    "    [4, 2]\n",
    "])\n",
    "\n",
    "print(m5*m4)"
   ]
  },
  {
   "cell_type": "code",
   "execution_count": 4,
   "metadata": {},
   "outputs": [
    {
     "name": "stdout",
     "output_type": "stream",
     "text": [
      "2  0 \n",
      "0  2 \n",
      "\n"
     ]
    }
   ],
   "source": [
    "identity = Matrix([ [1,0], [0,1] ])\n",
    "doubled  = 2 * identity\n",
    "print(doubled)\n"
   ]
  },
  {
   "cell_type": "code",
   "execution_count": null,
   "metadata": {},
   "outputs": [],
   "source": [
    "row = []\n",
    "        result = self.g\n",
    "        for i in range(self.h):\n",
    "            for j in range(other.w):\n",
    "                for k in range(self.w):\n",
    "                    row.append(self.g[i][k]*self[j][k]) \n",
    "                result[i][j] = sum(row)\n",
    "                row = []\n",
    "        return Matrix(result)"
   ]
  },
  {
   "cell_type": "code",
   "execution_count": 2,
   "metadata": {},
   "outputs": [
    {
     "name": "stdout",
     "output_type": "stream",
     "text": [
      "Congratulations! All tests pass. Your Matrix class is working as expected.\n"
     ]
    }
   ],
   "source": [
    "# Try running this code. You should get an assertion error. \n",
    "# You will continue to get assertion errors until all the \n",
    "# methods in matrix.py are correctly implemented.\n",
    "\n",
    "# You can open matrix.py by selecting File > Open... \n",
    "# and then selecting matrix.py\n",
    "\n",
    "import test"
   ]
  },
  {
   "cell_type": "code",
   "execution_count": null,
   "metadata": {
    "collapsed": true
   },
   "outputs": [],
   "source": [
    "# open matrix.py (File > Open...) and start\n",
    "# implementing matrix methods! \n",
    "\n",
    "# when your code passes all the tests you can submit by \n",
    "# pressing the SUBMIT button in the lower right corner \n",
    "# of this page."
   ]
  }
 ],
 "metadata": {
  "kernelspec": {
   "display_name": "Python 3",
   "language": "python",
   "name": "python3"
  },
  "language_info": {
   "codemirror_mode": {
    "name": "ipython",
    "version": 3
   },
   "file_extension": ".py",
   "mimetype": "text/x-python",
   "name": "python",
   "nbconvert_exporter": "python",
   "pygments_lexer": "ipython3",
   "version": "3.6.3"
  }
 },
 "nbformat": 4,
 "nbformat_minor": 2
}
